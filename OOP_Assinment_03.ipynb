{
  "nbformat": 4,
  "nbformat_minor": 0,
  "metadata": {
    "colab": {
      "name": "OOP_Assinment_03.ipynb",
      "provenance": [],
      "authorship_tag": "ABX9TyNapeC1MCccNnKedolQVxAb",
      "include_colab_link": true
    },
    "kernelspec": {
      "name": "python3",
      "display_name": "Python 3"
    },
    "language_info": {
      "name": "python"
    }
  },
  "cells": [
    {
      "cell_type": "markdown",
      "metadata": {
        "id": "view-in-github",
        "colab_type": "text"
      },
      "source": [
        "<a href=\"https://colab.research.google.com/github/pruthvirajkamble/oop-assinments/blob/main/OOP_Assinment_03.ipynb\" target=\"_parent\"><img src=\"https://colab.research.google.com/assets/colab-badge.svg\" alt=\"Open In Colab\"/></a>"
      ]
    },
    {
      "cell_type": "code",
      "metadata": {
        "colab": {
          "base_uri": "https://localhost:8080/"
        },
        "id": "MR1sX0lWKiZU",
        "outputId": "c3941a47-5899-4ea8-e437-e69a5ab125cd"
      },
      "source": [
        "class Student:\n",
        "  def getInfo(self):\n",
        "    self.name = input(\"Enter student's name: \")\n",
        "    self.regNo = int(input(\"Enter registration number: \"))\n",
        "    self.age = int(input(\"Enter student's age: \"))\n",
        "    self.gender = input(\"Enter student's gender: \")\n",
        "    self.branch = input(\"Enter student's branch: \")\n",
        "    self.sem = int(input(\"Enter semester: \"))\n",
        "\n",
        "  def displayBasicInfo(self):\n",
        "    print(\"Name:\", self.name+\",\", \"Reg. no.:\", str(self.regNo)+\",\", \"Age:\", str(self.age)+',', \"Gender:\",self.gender+',',\"Branch:\", self.branch+',', \"Semester:\",self.sem)\n",
        "\n",
        "class StudentResultInfo(Student):\n",
        "  def __init__(self, marks, percentage, grade):\n",
        "    self.marks = marks\n",
        "    self.percentage = percentage\n",
        "    self.grade = grade\n",
        "\n",
        "  def displayInfo(self):\n",
        "    print(\"\\nBASIC INFO\")\n",
        "    self.displayBasicInfo()\n",
        "    print(\"RESULTS\\nTotal marks:\", str(self.marks)+',', \"Percentage:\", str(self.percentage)+'%,', \"Grade:\", self.grade)\n",
        "\n",
        "std1 = StudentResultInfo(400, 90, 'A+')\n",
        "std1.getInfo()\n",
        "std1.displayBasicInfo()\n",
        "std1.displayInfo()"
      ],
      "execution_count": 2,
      "outputs": [
        {
          "output_type": "stream",
          "name": "stdout",
          "text": [
            "Enter student's name: pruthviraj\n",
            "Enter registration number: 1000\n",
            "Enter student's age: 20\n",
            "Enter student's gender: male\n",
            "Enter student's branch: cse\n",
            "Enter semester: 3\n",
            "Name: pruthviraj, Reg. no.: 1000, Age: 20, Gender: male, Branch: cse, Semester: 3\n",
            "\n",
            "BASIC INFO\n",
            "Name: pruthviraj, Reg. no.: 1000, Age: 20, Gender: male, Branch: cse, Semester: 3\n",
            "RESULTS\n",
            "Total marks: 400, Percentage: 90%, Grade: A+\n"
          ]
        }
      ]
    },
    {
      "cell_type": "code",
      "metadata": {
        "colab": {
          "base_uri": "https://localhost:8080/"
        },
        "id": "cJ2Hxu0xL9iU",
        "outputId": "a96b7d57-c7b0-494c-d29b-85810a3aeceb"
      },
      "source": [
        "class Vehicle:\n",
        "  def __init__(self, name, mileage, capacity):      \n",
        "    self.name = name\n",
        "    self.mileage = mileage\n",
        "    self.capacity = capacity\n",
        "\n",
        "  def fare(self):\n",
        "    return self.capacity*100\n",
        "\n",
        "class Bus(Vehicle):\n",
        "  def busFare(self):\n",
        "    return 1.1*self.fare()\n",
        "\n",
        "bus = Bus(\"parivartan\", 3.63, 50)\n",
        "print(\"Name: {0.name}, Mileage: {0.mileage}Kmpl, Capacity: {0.capacity}, \\nBus fare: Rs. {1}\".format(bus, bus.busFare()))"
      ],
      "execution_count": 3,
      "outputs": [
        {
          "output_type": "stream",
          "name": "stdout",
          "text": [
            "Name: parivartan, Mileage: 3.63Kmpl, Capacity: 50, \n",
            "Bus fare: Rs. 5500.0\n"
          ]
        }
      ]
    },
    {
      "cell_type": "code",
      "metadata": {
        "colab": {
          "base_uri": "https://localhost:8080/"
        },
        "id": "_2MB7e3mMw3q",
        "outputId": "f48b8f4a-318f-4faa-daef-85a658e2b917"
      },
      "source": [
        "class PDFs:\n",
        "  def __init__(self, creator, description, size):\n",
        "    self.creator = creator\n",
        "    self.description = description\n",
        "    self.size = size\n",
        "\n",
        "  def displayInfo(self):\n",
        "    print(\"Created by:\",self.creator)\n",
        "    print(\"Description:\", self.description)\n",
        "    print(\"File size (in KBs):\", self.size)\n",
        "\n",
        "  def sizeLimit(self):\n",
        "    if self.size > 256:         #SIZE THRESHOLD = 256 KBs\n",
        "      print(\"Size exceeds threshold.\\n\")\n",
        "    else:\n",
        "      print(\"Size is within the threshold.\\n\")\n",
        "\n",
        "class Pictures(PDFs):\n",
        "  def __init__(self, creator, description, size, dimension):\n",
        "    super().__init__(creator, description, size)\n",
        "    self.dimension = dimension\n",
        "\n",
        "  def displayPicInfo(self):\n",
        "    self.displayInfo()\n",
        "    print(\"Dimensions (in pixels):\", self.dimension)\n",
        "\n",
        "  def dimensionLimit(self):\n",
        "    if self.dimension>2000:   #DIMENSION THRESHOLD = 2000p\n",
        "      print(\"The picture is too high dimension!\\n\")\n",
        "    else:\n",
        "      print(\"The picture's dimensions are fine.\\n\")\n",
        "      \n",
        "pdf1 = PDFs(\"pruthvi\", \"Lab assignment 3\", 110)\n",
        "pdf1.displayInfo()\n",
        "pdf1.sizeLimit()\n",
        "print()\n",
        "img = Pictures(\"vikash\", \"Tajmahel\", 1340, 4100)\n",
        "img.displayPicInfo()\n",
        "img.dimensionLimit()"
      ],
      "execution_count": 5,
      "outputs": [
        {
          "output_type": "stream",
          "name": "stdout",
          "text": [
            "Created by: pruthvi\n",
            "Description: Lab assignment 3\n",
            "File size (in KBs): 110\n",
            "Size is within the threshold.\n",
            "\n",
            "\n",
            "Created by: vikash\n",
            "Description: Tajmahel\n",
            "File size (in KBs): 1340\n",
            "Dimensions (in pixels): 4100\n",
            "The picture is too high dimension!\n",
            "\n"
          ]
        }
      ]
    }
  ]
}