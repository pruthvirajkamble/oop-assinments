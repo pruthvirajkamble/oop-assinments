{
  "nbformat": 4,
  "nbformat_minor": 0,
  "metadata": {
    "colab": {
      "name": "20bca104lab assinment 5",
      "provenance": [],
      "authorship_tag": "ABX9TyMd7BpxB1LgoeGFMmuQ5lkj",
      "include_colab_link": true
    },
    "kernelspec": {
      "name": "python3",
      "display_name": "Python 3"
    },
    "language_info": {
      "name": "python"
    }
  },
  "cells": [
    {
      "cell_type": "markdown",
      "metadata": {
        "id": "view-in-github",
        "colab_type": "text"
      },
      "source": [
        "<a href=\"https://colab.research.google.com/github/pruthvirajkamble/oop-assinments/blob/main/20bca104lab_assinment_5.ipynb\" target=\"_parent\"><img src=\"https://colab.research.google.com/assets/colab-badge.svg\" alt=\"Open In Colab\"/></a>"
      ]
    },
    {
      "cell_type": "code",
      "metadata": {
        "colab": {
          "base_uri": "https://localhost:8080/"
        },
        "id": "WKtzIJfbNG-2",
        "outputId": "ba55788d-287a-4638-8b35-15b1215ed860"
      },
      "source": [
        "class shape():\n",
        "    def area():\n",
        "        pass\n",
        "\n",
        "class circle(shape):\n",
        "    def __init__(self,radius):\n",
        "        self.radius = radius\n",
        "    def area(self):\n",
        "        print(\"The area is: \",3.14*(self.radius**2))\n",
        "        \n",
        "class square(shape):\n",
        "    def __init__(self,side):\n",
        "        self.side = side\n",
        "    def area(self):\n",
        "        print(\"The area is: \",self.side**2)\n",
        "        \n",
        "class rectangle(shape):\n",
        "    def __init__(self,l,b):\n",
        "        self.l = l\n",
        "        self.b = b\n",
        "    def area(self):\n",
        "        print(\"The area is: \",self.l*self.b)\n",
        "        \n",
        "s1 = circle(3)\n",
        "s1.area()\n",
        "s2 = square(5)\n",
        "s2.area()\n",
        "s3 = rectangle(10,49)\n",
        "s3.area()"
      ],
      "execution_count": null,
      "outputs": [
        {
          "output_type": "stream",
          "name": "stdout",
          "text": [
            "The area is:  28.26\n",
            "The area is:  25\n",
            "The area is:  490\n"
          ]
        }
      ]
    },
    {
      "cell_type": "code",
      "metadata": {
        "colab": {
          "base_uri": "https://localhost:8080/"
        },
        "id": "YX2tOpM0N1kF",
        "outputId": "76cfcc67-bef1-44d1-f64b-1aad11f78f86"
      },
      "source": [
        "class travel():\n",
        "    def __init__(self,distance, mode):\n",
        "        self.distance = distance\n",
        "        self.mode = mode\n",
        "        self._number = 10\n",
        "\n",
        "class train(travel):\n",
        "    def __init__(self,distance,mode):\n",
        "        travel.__init__(self,distance,mode)\n",
        "        \n",
        "    def cost(self):\n",
        "        print(\"cost of train travel: \", self._number*60)\n",
        "    \n",
        "class bus(travel):\n",
        "    def __init__(self,distance,mode):\n",
        "        travel.__init__(self,distance,mode)\n",
        "       \n",
        "    def cost(self):\n",
        "        print(\"cost of bus travel: \", self._number*100)\n",
        "\n",
        "family_1 = train(100,\"train\")\n",
        "family_2 = bus(100, \"bus\")\n",
        "\n",
        "family_1.cost()\n",
        "family_2.cost()"
      ],
      "execution_count": null,
      "outputs": [
        {
          "output_type": "stream",
          "name": "stdout",
          "text": [
            "cost of train travel:  600\n",
            "cost of bus travel:  1000\n"
          ]
        }
      ]
    },
    {
      "cell_type": "code",
      "metadata": {
        "colab": {
          "base_uri": "https://localhost:8080/"
        },
        "id": "dummkHfpOBRl",
        "outputId": "1ae3d42f-f948-41e2-c3a3-b7511b5c0340"
      },
      "source": [
        "class Car():\n",
        "  def __init__(self,model_number):\n",
        "    self.model_number = model_number\n",
        "  def show(self):\n",
        "    print(self.model_number)\n",
        "\n",
        "c1 = Car(22)\n",
        "c2 = Car(44)\n",
        "\n",
        "c1.model_number, c2.model_number = c2.model_number , c1.model_number\n",
        "\n",
        "c1.show()\n",
        "c2.show()"
      ],
      "execution_count": null,
      "outputs": [
        {
          "output_type": "stream",
          "name": "stdout",
          "text": [
            "44\n",
            "22\n"
          ]
        }
      ]
    }
  ]
}