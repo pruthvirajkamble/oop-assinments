{
  "nbformat": 4,
  "nbformat_minor": 0,
  "metadata": {
    "colab": {
      "name": "Untitled1.ipynb",
      "provenance": [],
      "collapsed_sections": [],
      "authorship_tag": "ABX9TyPJex5W2QLH/Fuw3+pfpbka",
      "include_colab_link": true
    },
    "kernelspec": {
      "name": "python3",
      "display_name": "Python 3"
    },
    "language_info": {
      "name": "python"
    }
  },
  "cells": [
    {
      "cell_type": "markdown",
      "metadata": {
        "id": "view-in-github",
        "colab_type": "text"
      },
      "source": [
        "<a href=\"https://colab.research.google.com/github/pruthvirajkamble/oop-assinments/blob/main/01_basicfunction.ipynb\" target=\"_parent\"><img src=\"https://colab.research.google.com/assets/colab-badge.svg\" alt=\"Open In Colab\"/></a>"
      ]
    },
    {
      "cell_type": "code",
      "metadata": {
        "colab": {
          "base_uri": "https://localhost:8080/"
        },
        "id": "oHggH49YCgzU",
        "outputId": "7f2b41bb-7b6b-4cfe-d1c0-404c36ae4228"
      },
      "source": [
        "#functions (isalnum)\n",
        "mystr = (\"pruthviraj is a good boy\")\n",
        "print(mystr.isalnum())\n",
        "mystr = (\"pruthvirajisagoodboy\")\n",
        "print(mystr.isalnum())\n",
        "mystr = (\"1234567890\")\n",
        "print(mystr.isalnum())\n",
        "mystr = (\"12.58124\")\n",
        "print(mystr.isalnum())\n",
        "mystr = (\"pruthviraj21547\")\n",
        "print(mystr.isalnum())\n",
        "mystr = (\"pruthviraj.123\")\n",
        "print(mystr.isalnum())\n",
        "\n",
        "#function (isalpha)\n",
        "mystr = (\"pruthviraj is a good boy\") #because no need for space in structure.\n",
        "print(mystr.isalpha())\n",
        "\n",
        "#function (endswith)\n",
        "mystr = (\"pruthviraj is a good boy\")\n",
        "print(mystr.endswith(\"boy\")) #mstr string is closed by 'boy' word isliye output is true.\n",
        "print(mystr.endswith(\"is\")) #mystr string is not closed by 'is'.\n",
        "mystr = (\"pruthviraj is a good boy\")\n",
        "print(mystr.count(\"o\"))\n",
        "print(mystr.count(\"a\"))\n",
        "print(mystr.capitalize())\n",
        "print(mystr.find(\"o\"))\n",
        "print(mystr.find(\"is\"))\n",
        "mystr = (\"PRUTHVIRAJ IS A GOOD BOY\")\n",
        "print(mystr.lower())\n",
        "mystr = (\"pruthviraj is a good boy\")\n",
        "print(mystr.upper())\n",
        "print(mystr.replace(\"is\",\"are\"))\n"
      ],
      "execution_count": 24,
      "outputs": [
        {
          "output_type": "stream",
          "name": "stdout",
          "text": [
            "False\n",
            "True\n",
            "True\n",
            "False\n",
            "True\n",
            "False\n",
            "False\n",
            "True\n",
            "False\n",
            "3\n",
            "2\n",
            "Pruthviraj is a good boy\n",
            "17\n",
            "11\n",
            "pruthviraj is a good boy\n",
            "PRUTHVIRAJ IS A GOOD BOY\n",
            "pruthviraj are a good boy\n"
          ]
        }
      ]
    }
  ]
}