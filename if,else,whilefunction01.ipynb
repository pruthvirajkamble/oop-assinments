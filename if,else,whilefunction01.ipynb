{
  "nbformat": 4,
  "nbformat_minor": 0,
  "metadata": {
    "colab": {
      "name": "Untitled8.ipynb",
      "provenance": [],
      "collapsed_sections": [],
      "authorship_tag": "ABX9TyNeFXOncYEBbxFl8zGPrN/G",
      "include_colab_link": true
    },
    "kernelspec": {
      "name": "python3",
      "display_name": "Python 3"
    },
    "language_info": {
      "name": "python"
    }
  },
  "cells": [
    {
      "cell_type": "markdown",
      "metadata": {
        "id": "view-in-github",
        "colab_type": "text"
      },
      "source": [
        "<a href=\"https://colab.research.google.com/github/pruthvirajkamble/oop-assinments/blob/main/if%2Celse%2Cwhilefunction01.ipynb\" target=\"_parent\"><img src=\"https://colab.research.google.com/assets/colab-badge.svg\" alt=\"Open In Colab\"/></a>"
      ]
    },
    {
      "cell_type": "code",
      "metadata": {
        "colab": {
          "base_uri": "https://localhost:8080/"
        },
        "id": "MYxiYi_t-9bN",
        "outputId": "903f18bd-6f85-4e4d-e1d8-b956ecc6ce67"
      },
      "source": [
        "while(True):\n",
        "  i = int(input(\"Enter the number : \"))\n",
        "  if i>100:\n",
        "    print(\"congrats your number is correct\")\n",
        "    break\n",
        "  else:\n",
        "    print(\"sorry try again\")\n",
        "    continue  "
      ],
      "execution_count": 1,
      "outputs": [
        {
          "output_type": "stream",
          "name": "stdout",
          "text": [
            "Enter the number : 25\n",
            "sorry try again\n",
            "Enter the number : 101\n",
            "congrats your number is correct\n"
          ]
        }
      ]
    },
    {
      "cell_type": "code",
      "metadata": {
        "colab": {
          "base_uri": "https://localhost:8080/"
        },
        "id": "wgh3wOFsJNZV",
        "outputId": "d6a2ecb5-0bbb-4b31-dd0d-9e80573ca69b"
      },
      "source": [
        "\n",
        "# no of guesses 9\n",
        "# print no of guesses left\n",
        "# No of guesses he took to finish\n",
        "# game over\n",
        "\n",
        "n=18\n",
        "number_of_guesses=1\n",
        "print(\"Number of guesses is limited to only 9 times: \")\n",
        "while (number_of_guesses<=9):\n",
        "    guess_number = int(input(\"Guess the number :\\n\"))\n",
        "    if guess_number<18:\n",
        "        print(\"you enter less number please input greater number.\\n\")\n",
        "    elif guess_number>18:\n",
        "        print(\"you enter greater number please input smaller number.\\n \")\n",
        "    else:\n",
        "        print(\"you won\\n\")\n",
        "        print(number_of_guesses,\"no.of guesses he took to finish.\")\n",
        "        break\n",
        "    print(9-number_of_guesses,\"no. of guesses left\")\n",
        "    number_of_guesses = number_of_guesses + 1\n",
        "\n",
        "if(number_of_guesses>9):\n",
        "    print(\"Game Over\")\n",
        "  \n"
      ],
      "execution_count": 7,
      "outputs": [
        {
          "output_type": "stream",
          "name": "stdout",
          "text": [
            "Number of guesses is limited to only 9 times: \n",
            "Guess the number :\n",
            "5\n",
            "you enter less number please input greater number.\n",
            "\n",
            "8 no. of guesses left\n",
            "Guess the number :\n",
            "20\n",
            "you enter greater number please input smaller number.\n",
            " \n",
            "7 no. of guesses left\n",
            "Guess the number :\n",
            "65\n",
            "you enter greater number please input smaller number.\n",
            " \n",
            "6 no. of guesses left\n",
            "Guess the number :\n",
            "25\n",
            "you enter greater number please input smaller number.\n",
            " \n",
            "5 no. of guesses left\n",
            "Guess the number :\n",
            "12\n",
            "you enter less number please input greater number.\n",
            "\n",
            "4 no. of guesses left\n",
            "Guess the number :\n",
            "19\n",
            "you enter greater number please input smaller number.\n",
            " \n",
            "3 no. of guesses left\n",
            "Guess the number :\n",
            "17\n",
            "you enter less number please input greater number.\n",
            "\n",
            "2 no. of guesses left\n",
            "Guess the number :\n",
            "18\n",
            "you won\n",
            "\n",
            "8 no.of guesses he took to finish.\n"
          ]
        }
      ]
    },
    {
      "cell_type": "code",
      "metadata": {
        "colab": {
          "base_uri": "https://localhost:8080/"
        },
        "id": "YqRJ09mwJ9KX",
        "outputId": "3d236fd6-6128-499b-950f-687dc79f2180"
      },
      "source": [
        "n = 18\n",
        "n1 = 1\n",
        "print(\"no.of guesses limited to only 9 times :\")\n",
        "while(n1<=9):\n",
        "  n2 = int(input(\"Enter the number : \\n\"))\n",
        "  if n2<18:\n",
        "    print(\"enter lesser number\\n\")\n",
        "  elif n2>18:\n",
        "    print(\"engter greater number\\n\")\n",
        "  else:\n",
        "    print(\"You win\\n\")\n",
        "    print(\"over no of guesses\",n1)\n",
        "    break\n",
        "  print(\"no of guesses left\",9-n1)\n",
        "  n1 = n1+1\n",
        "\n",
        "if(n1>9):\n",
        "  print(\"Game over\")\n",
        "\n"
      ],
      "execution_count": 9,
      "outputs": [
        {
          "output_type": "stream",
          "name": "stdout",
          "text": [
            "no.of guesses limited to only 9 times :\n",
            "Enter the number : \n",
            "11\n",
            "enter lesser number\n",
            "\n",
            "no of guesses left 1\n",
            "Enter the number : \n",
            "20\n",
            "engter greater number\n",
            "\n",
            "no of guesses left 2\n",
            "Enter the number : \n",
            "66\n",
            "engter greater number\n",
            "\n",
            "no of guesses left 3\n",
            "Enter the number : \n",
            "18\n",
            "You win\n",
            "\n",
            "over no of guesses 4\n"
          ]
        }
      ]
    },
    {
      "cell_type": "code",
      "metadata": {
        "id": "bbg-Y-UMUxKK"
      },
      "source": [
        "from google.colab import drive\n",
        "drive.mount('/content/drive')"
      ],
      "execution_count": null,
      "outputs": []
    }
  ]
}