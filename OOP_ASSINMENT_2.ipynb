{
  "nbformat": 4,
  "nbformat_minor": 0,
  "metadata": {
    "colab": {
      "name": "OOP_ASSINMENT_2.ipynb",
      "provenance": [],
      "collapsed_sections": [],
      "authorship_tag": "ABX9TyN9fl/CW10RPMfsH3hTgV+f",
      "include_colab_link": true
    },
    "kernelspec": {
      "name": "python3",
      "display_name": "Python 3"
    },
    "language_info": {
      "name": "python"
    }
  },
  "cells": [
    {
      "cell_type": "markdown",
      "metadata": {
        "id": "view-in-github",
        "colab_type": "text"
      },
      "source": [
        "<a href=\"https://colab.research.google.com/github/pruthvirajkamble/oop-assinments/blob/main/OOP_ASSINMENT_2.ipynb\" target=\"_parent\"><img src=\"https://colab.research.google.com/assets/colab-badge.svg\" alt=\"Open In Colab\"/></a>"
      ]
    },
    {
      "cell_type": "code",
      "metadata": {
        "colab": {
          "base_uri": "https://localhost:8080/"
        },
        "id": "OlOUOKEdT9lA",
        "outputId": "74e2f6b4-900c-4bbe-b60b-4c4a330c8ce6"
      },
      "source": [
        "import math\n",
        "class circle():\n",
        "  def __init__(self,radius):\n",
        "    self.radius = radius\n",
        "  def area(self):\n",
        "    return math.pi*(self.radius**2)\n",
        "  def perimeter(self):\n",
        "    return 2*math.pi*self.radius\n",
        "for i in range(2):\n",
        "    r = int(input(\"Enter radius of circule: \"))\n",
        "    n1 = circle(r)\n",
        "    print(\"Area of circle:\",round(n1.area(),2))\n",
        "    print(\"Perimeter of circle:\",round(n1.perimeter(),2))        "
      ],
      "execution_count": 1,
      "outputs": [
        {
          "output_type": "stream",
          "name": "stdout",
          "text": [
            "Enter radius of circule: 2\n",
            "Area of circle: 12.57\n",
            "Perimeter of circle: 12.57\n",
            "Enter radius of circule: 5\n",
            "Area of circle: 78.54\n",
            "Perimeter of circle: 31.42\n"
          ]
        }
      ]
    },
    {
      "cell_type": "code",
      "metadata": {
        "colab": {
          "base_uri": "https://localhost:8080/"
        },
        "id": "ymOracnBiNgn",
        "outputId": "05c781bc-e0cb-46c0-b98b-b15382717f61"
      },
      "source": [
        "class faculty:\n",
        "    def __init__(self, Name, Emp_ID, Branch, Salary):\n",
        "        self.Name = Name\n",
        "        self.Emp_ID = Emp_ID\n",
        "        self.Branch = Branch\n",
        "        self.Salary = Salary\n",
        "\n",
        "    def print_details(self):\n",
        "        print(\"Name of faculty teacher is {}\".format(self.Name))\n",
        "        print(\"ID of faculty teacher is {}\".format(self.Emp_ID))    \n",
        "        print(\"Branch of faculty teacher is {}\".format(self.Branch))    \n",
        "        print(\"Salary of faculty teacher is {}\".format(self.Salary))    \n",
        "\n",
        "Ramesh = faculty(\"Ramesh\", 3, \"CSC\", 250000)\n",
        "Ramesh.print_details()"
      ],
      "execution_count": 19,
      "outputs": [
        {
          "output_type": "stream",
          "name": "stdout",
          "text": [
            "Name of faculty teacher is Ramesh\n",
            "ID of faculty teacher is 3\n",
            "Branch of faculty teacher is CSC\n",
            "Salary of faculty teacher is 250000\n"
          ]
        }
      ]
    },
    {
      "cell_type": "code",
      "metadata": {
        "colab": {
          "base_uri": "https://localhost:8080/"
        },
        "id": "xgl0VhltqXq5",
        "outputId": "19fe325f-f479-401b-ef49-cad9545a57d8"
      },
      "source": [
        "class Account():\n",
        "  def __init__(self,Account_No,Holder_name,Amount):\n",
        "    self.Account_no  = Account_No\n",
        "    self.Holder_name = Holder_name\n",
        "    self.Amount      = Amount\n",
        "  def Account_details(self):\n",
        "    print(\"Account Number      : \",Account_no)\n",
        "    print(\"Account Holder Name : \",Holder_name)\n",
        "    print(\"Amount of Holder    : \",Amount)\n",
        "  def Deposit(self,amount):\n",
        "    self.Amount = self.Amount + amount\n",
        "  def Withdraw(self,amount):\n",
        "    self.Amount = self.Amount - amount\n",
        "  def Check_balance(self):\n",
        "    print(\"Your Account Balance : \",self.Amount)\n",
        "\n",
        "x = input(\"Enter Account Number : \")\n",
        "y = int(input(\"Enter Holder's Name : \"))\n",
        "z = int(input(\"Enter the Amount : \"))\n",
        "K = Account(x,y,z)\n",
        "K.Account_details\n",
        "m = int(input(\"Enter the Deposited Amount : \"))\n",
        "K.Deposit(m)\n",
        "n = int(input(\"Enter the Withdrawl Amount : \"))\n",
        "K.Withdraw(n)\n",
        "K.Check_balance()"
      ],
      "execution_count": 34,
      "outputs": [
        {
          "output_type": "stream",
          "name": "stdout",
          "text": [
            "Enter Account Number : mhgsftstwv\n",
            "Enter Holder's Name : 2015478\n",
            "Enter the Amount : 10\n",
            "Enter the Deposited Amount : 20\n",
            "Enter the Withdrawl Amount : 30\n",
            "Your Account Balance :  0\n"
          ]
        }
      ]
    },
    {
      "cell_type": "code",
      "metadata": {
        "colab": {
          "base_uri": "https://localhost:8080/"
        },
        "id": "qLAOtyUjq2Pd",
        "outputId": "e7c8f9e5-f26d-4f2b-a4de-6c3e019b5c40"
      },
      "source": [
        "class Student():\n",
        "  def __init__(self,Name,USN,Marks):\n",
        "    self.Name  = Name\n",
        "    self.USN   = USN\n",
        "    self.Marks = Marks\n",
        "  def Display_details(self):\n",
        "    print(\"Student Name  : \",self.Name)\n",
        "    print(\"--> USN       : \",self.USN)\n",
        "    print(\"Student Marks : \",self.Marks)\n",
        "marks = []\n",
        "marks.append(\"Maths   :\" + \"99\")\n",
        "marks.append(\"physics :\" + \"94\")\n",
        "marks.append(\"chemistry :\" + \"96\")\n",
        "\n",
        "s = Student(\"pruthviraj\",10,marks)\n",
        "s.Display_details()\n"
      ],
      "execution_count": 38,
      "outputs": [
        {
          "output_type": "stream",
          "name": "stdout",
          "text": [
            "Student Name  :  pruthviraj\n",
            "--> USN       :  10\n",
            "Student Marks :  ['Maths   :99', 'physics :94', 'chemistry :96']\n"
          ]
        }
      ]
    },
    {
      "cell_type": "code",
      "metadata": {
        "colab": {
          "base_uri": "https://localhost:8080/"
        },
        "id": "Uvv2NCxHrDYF",
        "outputId": "d14a264b-379d-41c4-8522-99c4213c76b2"
      },
      "source": [
        "class Patient:\n",
        "  def __init__(self,Name,O2_level,DOA):\n",
        "    self.Name = Name\n",
        "    self.Symptoms = []\n",
        "    self.O2_level = O2_level\n",
        "    self.DOA = DOA\n",
        "\n",
        "  def Person_details(self):\n",
        "    self.age  = int(input(\"Enter the age : \"))\n",
        "    self.gender= input(\"Enter the Gender : \")\n",
        "    self.address = input(\"Enter the Address : \")\n",
        "    for i in range(1):\n",
        "      symptoms = input(\"Enter The Five Symptoms : \")\n",
        "      self.Symptoms.append(symptoms)\n",
        "    self.DOD = input(\"Enter Date of Discharge : \")\n",
        "  \n",
        "  def Display_details(self):\n",
        "    print(\"Patient Name : \",self.Name)\n",
        "    print(\"Patient Age  :\",self.age)\n",
        "    print(\"Patient Gender: \",self.gender)\n",
        "    print(\"Patient Address :\",self.address)\n",
        "    print(\"Patient Symptoms : \",self.Symptoms)\n",
        "    print(\"Patient Admitted Date : \",self.DOA)\n",
        "    print(\"Patient Date of Discharge :\",self.DOD)\n",
        "\n",
        "  def Severity(self):\n",
        "    self.General_ward = 0\n",
        "    self.Oxygen_supp  = 0\n",
        "    if self.O2_level > 90:\n",
        "      self.General_ward = self.General_ward + 1\n",
        "      print(\"Shifted to General Ward \")\n",
        "    else :\n",
        "      self.Oxygen_supp = self.Oxygen_supp + 1\n",
        "      print(\"Shifted to Emergency Ward \")\n",
        "  \n",
        "  def Patients_general_ward(self):\n",
        "    print(\"Number of Patients in General Ward : \",self.General_ward)\n",
        "  def Oxygen_support(self):\n",
        "    print(\"Number of Patients in Oxygen Support : \", self.Oxygen_supp)\n",
        "  def Total_Patients(self):\n",
        "    print(\"Total Number of Patients in Hospital : \",self.General_ward + self.Oxygen_supp)\n",
        "\n",
        "for i in range(1):\n",
        "\n",
        "  x = input(\"Enter the Patient Name : \")\n",
        "  y = int(input(\"Enter The Oxygen % : \"))\n",
        "  z = input(\"Enter The Admitted Date : \")\n",
        "\n",
        "  M = Patient(x,y,z)\n",
        "  M.Person_details()\n",
        "  M.Severity()\n",
        "\n",
        "  M.Patients_general_ward()\n",
        "  M.Oxygen_support()\n",
        "  M.Total_Patients()\n",
        "  M.Display_details()\n"
      ],
      "execution_count": 39,
      "outputs": [
        {
          "output_type": "stream",
          "name": "stdout",
          "text": [
            "Enter the Patient Name : gollu\n",
            "Enter The Oxygen % : 32\n",
            "Enter The Admitted Date : 01021001\n",
            "Enter the age : 20\n",
            "Enter the Gender : male\n",
            "Enter the Address : hubli dharwad\n",
            "Enter The Five Symptoms : fever\n",
            "Enter Date of Discharge : 01021001\n",
            "Shifted to Emergency Ward \n",
            "Number of Patients in General Ward :  0\n",
            "Number of Patients in Oxygen Support :  1\n",
            "Total Number of Patients in Hospital :  1\n",
            "Patient Name :  gollu\n",
            "Patient Age  : 20\n",
            "Patient Gender:  male\n",
            "Patient Address : hubli dharwad\n",
            "Patient Symptoms :  ['fever']\n",
            "Patient Admitted Date :  01021001\n",
            "Patient Date of Discharge : 01021001\n"
          ]
        }
      ]
    },
    {
      "cell_type": "code",
      "metadata": {
        "colab": {
          "base_uri": "https://localhost:8080/"
        },
        "id": "P5ahdF8QryLg",
        "outputId": "b842725f-42eb-4448-ae2f-6841c232fa17"
      },
      "source": [
        "class Time():\n",
        "  def __init__(self,hour = 0,minutes = 0,seconds = 0):\n",
        "    self.hour    = hour\n",
        "    self.minutes = minutes\n",
        "    self.seconds = seconds\n",
        "  def display_time(self):\n",
        "    print(self.hour,\":\",self.minutes,\":\",self.seconds)\n",
        "T = Time()\n",
        "T.display_time()\n",
        "T.hour    = 10\n",
        "T.minutes = 60\n",
        "T.seconds = 120\n",
        "T.display_time()\n"
      ],
      "execution_count": 40,
      "outputs": [
        {
          "output_type": "stream",
          "name": "stdout",
          "text": [
            "0 : 0 : 0\n",
            "10 : 60 : 120\n"
          ]
        }
      ]
    },
    {
      "cell_type": "code",
      "metadata": {
        "colab": {
          "base_uri": "https://localhost:8080/"
        },
        "id": "Qltn2Bvqr7FZ",
        "outputId": "82c544dc-9846-4200-fd8f-3b79344a918e"
      },
      "source": [
        "class Student():\n",
        "  def __init__(self,Name,Age,Rollno):\n",
        "    self.Name = Name\n",
        "    self.Age  = Age\n",
        "    self.Rollno = Rollno\n",
        "S1 = Student(\"sunil\" , 21 , 33)\n",
        "S2 = Student(\"Rohith\", 22 , 74)\n",
        "def Compare(S1,S2):\n",
        "  if S1==S2 :\n",
        "    print(\"Student - 1 is equal to Student - 2 \")\n",
        "  else :\n",
        "    print(\"Student - 1 is not equal to Student - 2\")\n",
        "Compare(S1,S2)"
      ],
      "execution_count": 41,
      "outputs": [
        {
          "output_type": "stream",
          "name": "stdout",
          "text": [
            "Student - 1 is not equal to Student - 2\n"
          ]
        }
      ]
    },
    {
      "cell_type": "code",
      "metadata": {
        "colab": {
          "base_uri": "https://localhost:8080/"
        },
        "id": "r12z0i5IsGCK",
        "outputId": "027ce217-182e-4596-e580-7c8565e5301c"
      },
      "source": [
        "class Student():\n",
        "  semester = \" 3rd Sem \"\n",
        "  institute_name = \" IIIT Dharwad \"\n",
        "  def __init__(self,Name,USN):\n",
        "    self.Name = Name\n",
        "    self.USN = USN\n",
        "  def student_details(self):\n",
        "    print(\" Name : \",self.Name)\n",
        "    print(\" USN : \",self.USN)\n",
        "  @classmethod\n",
        "  def institute_details(cls):\n",
        "    print(cls.semester)\n",
        "    print(cls.institute_name)\n",
        "  @staticmethod\n",
        "  def class_details(Name, USN, semester, institute):\n",
        "    print(\"Name: \",Name)\n",
        "    print(\"USN: \", USN)\n",
        "    print(\"Semester: \",semester)\n",
        "    print(\"Institute: \",institute)\n",
        "\n",
        "S = Student(\"pruthviraj\", '20BCS104')\n",
        "print(\"Student_details is a instance method:\\n\")\n",
        "S.student_details()\n",
        "print(\"\\nInstitute_details is a class method:\")\n",
        "S.institute_details()\n",
        "print(\"\\nClass_details is a static method:\\n\")\n",
        "S.class_details(\"pruthviraj\",'20BCS104',\"3rd Sem\", \"IIIT DHARWAD\")"
      ],
      "execution_count": 42,
      "outputs": [
        {
          "output_type": "stream",
          "name": "stdout",
          "text": [
            "Student_details is a instance method:\n",
            "\n",
            " Name :  pruthviraj\n",
            " USN :  20BCS104\n",
            "\n",
            "Institute_details is a class method:\n",
            " 3rd Sem \n",
            " IIIT Dharwad \n",
            "\n",
            "Class_details is a static method:\n",
            "\n",
            "Name:  pruthviraj\n",
            "USN:  20BCS104\n",
            "Semester:  3rd Sem\n",
            "Institute:  IIIT DHARWAD\n"
          ]
        }
      ]
    },
    {
      "cell_type": "code",
      "metadata": {
        "colab": {
          "base_uri": "https://localhost:8080/"
        },
        "id": "zkVIGjAVsOvb",
        "outputId": "29cd465a-94c1-4a80-9825-f4c351f0bf44"
      },
      "source": [
        "class Student:\n",
        "  def __init__(self,Name,Rollno,Sem):\n",
        "    self.Name = Name\n",
        "    self.Rollno = Rollno\n",
        "    self.Sem = Sem\n",
        "  class Laptop:\n",
        "    def __init__(self,CPU,RAM,Hard_disk,display_details):\n",
        "      self.CPU = CPU\n",
        "      self.RAM = RAM\n",
        "      self.Hard_disk = Hard_disk\n",
        "      self.display_details = display_details\n",
        "    def display_laptop(self):\n",
        "      print(\"CPU \",self.CPU)\n",
        "      print(\"RAM \",self.RAM)\n",
        "      print(\"Hard Disk\",self.Hard_disk)\n",
        "      print(\"Display_details\",self.display_details)\n",
        "  \n",
        "  def display_student(self):\n",
        "    print(\"Name: \",self.Name)\n",
        "    print(\"Roll: \",self.Rollno)\n",
        "    print(\"Sem: \",self.Sem)\n",
        "Students = []\n",
        "Laptops   = []\n",
        "for i in range(1):\n",
        "  x = input(\"Enter the Name : \")\n",
        "  y = int(input(\"Enter the ROLL NO : \"))\n",
        "  z = int(input(\"Enter the Semister :\"))\n",
        "  S = Student(x,y,z)\n",
        "  Students.append(S)\n",
        "  for j in range(1):\n",
        "    a = input(\"Enter the CPU : \")\n",
        "    b = int(input(\"Enter the RAM : \"))\n",
        "    c = int(input(\"Enter the Hard Disk data : \"))\n",
        "    d = input(\"Enter the Display Details :\")\n",
        "    Slap = S.Laptop(a,b,c,d)\n",
        "    Laptops.append(Slap)\n",
        "for i in Students:\n",
        "  i.display_student()\n",
        "  for j in Laptops:\n",
        "    j.display_laptop()\n",
        "    print(\" \")"
      ],
      "execution_count": 45,
      "outputs": [
        {
          "output_type": "stream",
          "name": "stdout",
          "text": [
            "Enter the Name : pruthviraj\n",
            "Enter the ROLL NO : 104\n",
            "Enter the Semister :3\n",
            "Enter the CPU : dell\n",
            "Enter the RAM : 256\n",
            "Enter the Hard Disk data : 256\n",
            "Enter the Display Details :laptop\n",
            "Name:  pruthviraj\n",
            "Roll:  104\n",
            "Sem:  3\n",
            "CPU  dell\n",
            "RAM  256\n",
            "Hard Disk 256\n",
            "Display_details laptop\n",
            " \n"
          ]
        }
      ]
    }
  ]
}