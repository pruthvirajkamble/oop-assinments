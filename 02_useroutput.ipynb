{
  "nbformat": 4,
  "nbformat_minor": 0,
  "metadata": {
    "colab": {
      "name": "Untitled0.ipynb",
      "provenance": [],
      "collapsed_sections": [],
      "authorship_tag": "ABX9TyP9j/XQ5Hc37HC9GXqbGg0v",
      "include_colab_link": true
    },
    "kernelspec": {
      "name": "python3",
      "display_name": "Python 3"
    },
    "language_info": {
      "name": "python"
    }
  },
  "cells": [
    {
      "cell_type": "markdown",
      "metadata": {
        "id": "view-in-github",
        "colab_type": "text"
      },
      "source": [
        "<a href=\"https://colab.research.google.com/github/pruthvirajkamble/oop-assinments/blob/main/02_useroutput.ipynb\" target=\"_parent\"><img src=\"https://colab.research.google.com/assets/colab-badge.svg\" alt=\"Open In Colab\"/></a>"
      ]
    },
    {
      "cell_type": "code",
      "metadata": {
        "colab": {
          "base_uri": "https://localhost:8080/"
        },
        "id": "OzjuFvkxcefF",
        "outputId": "70402adc-d32e-4a11-97be-ffa1cadcf69d"
      },
      "source": [
        "print(\"Enter the number\")\n",
        "prithvi = input()\n",
        "print(\"you intered\",int(prithvi)+10)"
      ],
      "execution_count": 15,
      "outputs": [
        {
          "output_type": "stream",
          "name": "stdout",
          "text": [
            "Enter the number\n",
            "1\n",
            "you intered 11\n"
          ]
        }
      ]
    },
    {
      "cell_type": "code",
      "metadata": {
        "colab": {
          "base_uri": "https://localhost:8080/"
        },
        "id": "hWidu1xgBgK_",
        "outputId": "4943c198-02c0-4a74-f4d8-28a84d9ce23c"
      },
      "source": [
        "print(\"Enter the first number\")\n",
        "n1 = input()\n",
        "print(\"Enter the second number\")\n",
        "n2 = input()\n",
        "print(\"Sum of the two numbers is\",int(n1)+int(n2))"
      ],
      "execution_count": 16,
      "outputs": [
        {
          "output_type": "stream",
          "name": "stdout",
          "text": [
            "Enter the first number\n",
            "10\n",
            "Enter the second number\n",
            "20\n",
            "Sum of the two numbers is 30\n"
          ]
        }
      ]
    },
    {
      "cell_type": "code",
      "metadata": {
        "colab": {
          "base_uri": "https://localhost:8080/"
        },
        "id": "2EitkoS2CTOV",
        "outputId": "34ab8e2c-6641-4fa8-b68b-7c4cf2362d44"
      },
      "source": [
        "print(\"please type your name  \")\n",
        "n1 = input()\n",
        "print(\"please inter your roll number\")\n",
        "n2 = input()\n",
        "print(\"thats right\",n1 , n2)"
      ],
      "execution_count": 24,
      "outputs": [
        {
          "output_type": "stream",
          "name": "stdout",
          "text": [
            "please type your name  \n",
            "pruthviraj digambar kamble \n",
            "please inter your roll number\n",
            "20bcs104\n",
            "thats right pruthviraj digambar kamble  20bcs104\n"
          ]
        }
      ]
    }
  ]
}