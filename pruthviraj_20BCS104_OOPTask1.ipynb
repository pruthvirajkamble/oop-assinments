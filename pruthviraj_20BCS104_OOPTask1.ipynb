{
  "nbformat": 4,
  "nbformat_minor": 0,
  "metadata": {
    "colab": {
      "name": "Untitled3.ipynb",
      "provenance": [],
      "collapsed_sections": [],
      "authorship_tag": "ABX9TyPofKwLV+uZ2R7yWhey7yOx",
      "include_colab_link": true
    },
    "kernelspec": {
      "name": "python3",
      "display_name": "Python 3"
    },
    "language_info": {
      "name": "python"
    }
  },
  "cells": [
    {
      "cell_type": "markdown",
      "metadata": {
        "id": "view-in-github",
        "colab_type": "text"
      },
      "source": [
        "<a href=\"https://colab.research.google.com/github/pruthvirajkamble/oop-assinments/blob/main/pruthviraj_20BCS104_OOPTask1.ipynb\" target=\"_parent\"><img src=\"https://colab.research.google.com/assets/colab-badge.svg\" alt=\"Open In Colab\"/></a>"
      ]
    },
    {
      "cell_type": "code",
      "metadata": {
        "colab": {
          "base_uri": "https://localhost:8080/"
        },
        "id": "sX8vjD__fOBo",
        "outputId": "d718ea21-6bf8-4e34-b058-eb65fcd48b90"
      },
      "source": [
        "def is_leap(year):\n",
        "  leap = False\n",
        "\n",
        "  if year % 400 ==0:\n",
        "    leap = True\n",
        "  elif year % 100 == 0:\n",
        "    leap = False\n",
        "  elif year % 4 == 0:\n",
        "    leap = True\n",
        "\n",
        "    return leap \n",
        "\n",
        "year  =  int(input(\"Enter the leap year\"))\n",
        "print(is_leap(year))"
      ],
      "execution_count": 19,
      "outputs": [
        {
          "output_type": "stream",
          "name": "stdout",
          "text": [
            "Enter the leap year4\n",
            "True\n"
          ]
        }
      ]
    },
    {
      "cell_type": "code",
      "metadata": {
        "colab": {
          "base_uri": "https://localhost:8080/"
        },
        "id": "9Xrvh9Clo3jy",
        "outputId": "80fcaacd-c19c-4812-929e-61efa6e40f81"
      },
      "source": [
        "def fashionably_late(arrivals) :\n",
        "  for person in arrivals :\n",
        "    index = arrivals.index(person)\n",
        "    if index >= int(len(arrivals)/2) and index != len(arrivals)-1:\n",
        "     print(person)\n",
        "arrivals = ['Hardik','Rahul','Virat','Rishabh','Mahi','Rohith','Rahane']   \n",
        "fashionably_late(arrivals)"
      ],
      "execution_count": 27,
      "outputs": [
        {
          "output_type": "stream",
          "name": "stdout",
          "text": [
            "Rishabh\n",
            "Mahi\n",
            "Rohith\n"
          ]
        }
      ]
    },
    {
      "cell_type": "code",
      "metadata": {
        "colab": {
          "base_uri": "https://localhost:8080/"
        },
        "id": "E6EFScNolWwd",
        "outputId": "83858fc9-aa10-4fa9-e7f6-a815437eac9d"
      },
      "source": [
        "n = int(input(\"Enter the number : \"))\n",
        "if n % 2 != 0:\n",
        "     print(\"weird\") \n",
        "else :\n",
        " if  n >= 2 and n<= 5:\n",
        "     print(\"Not weird\")\n",
        " elif n >= 6 and n<=20:\n",
        "     print(\"weird\")\n",
        " elif n > 20:\n",
        "     print(\"Not weird\")    "
      ],
      "execution_count": 26,
      "outputs": [
        {
          "output_type": "stream",
          "name": "stdout",
          "text": [
            "Enter the number : 7\n",
            "weird\n"
          ]
        }
      ]
    },
    {
      "cell_type": "code",
      "metadata": {
        "colab": {
          "base_uri": "https://localhost:8080/"
        },
        "id": "-RQv81F_po_P",
        "outputId": "637c52a5-30b7-4697-f2ed-bf68f7ae7db8"
      },
      "source": [
        "def word_search(doc_list,keyword):\n",
        "  for i in doc_list:\n",
        "      keyword = keyword.lower()\n",
        "      m = i.replace(\".\",\"\")\n",
        "      m = i.replace(\",\",\"\")\n",
        "      k = m.split()\n",
        "      for j in k:\n",
        "        j = j.lower()\n",
        "        if j == keyword:\n",
        "          print(i)\n",
        "k = [\"The cat is like cat.\",\"The learn Python Challenge cat.\",\"banglore\",\"lion,love.cat\",\"they bought finally .cat\",\"and also ate ,cat\",\"cat\"]\n",
        "word = input('Enter a word to search : ')\n",
        "word_search(k,word)"
      ],
      "execution_count": 30,
      "outputs": [
        {
          "output_type": "stream",
          "name": "stdout",
          "text": [
            "Enter a word to search : cat\n",
            "The cat is like cat.\n",
            "and also ate ,cat\n",
            "cat\n"
          ]
        }
      ]
    },
    {
      "cell_type": "code",
      "metadata": {
        "colab": {
          "base_uri": "https://localhost:8080/"
        },
        "id": "cbbYvhJFtn0-",
        "outputId": "8ec7f0d9-f2f9-4d9f-9ef1-1e2439bacab7"
      },
      "source": [
        "Basic_Sal = float(input(\"Enter The Basic Salary : \"))\n",
        "\n",
        "DA  = (Basic_Sal * 40)/100\n",
        "HRA = (Basic_Sal * 20)/100\n",
        "Gross_Sal = Basic_Sal + DA + HRA\n",
        "\n",
        "print(\"\\nDearness Allowance 40% of Basic Salary :\", DA)\n",
        "print(\"House Rent 20% of Basic Salary :\", HRA)\n",
        "print(\"Gross Salary :\", Gross_Sal)"
      ],
      "execution_count": 32,
      "outputs": [
        {
          "output_type": "stream",
          "name": "stdout",
          "text": [
            "Enter The Basic Salary : 10000\n",
            "\n",
            "Dearness Allowance 40% of Basic Salary : 4000.0\n",
            "House Rent 20% of Basic Salary : 2000.0\n",
            "Gross Salary : 16000.0\n"
          ]
        }
      ]
    },
    {
      "cell_type": "code",
      "metadata": {
        "colab": {
          "base_uri": "https://localhost:8080/"
        },
        "id": "NYbP7yQrupNJ",
        "outputId": "2398a8d0-0c2b-4ed8-bf10-836d935cc1e4"
      },
      "source": [
        "Basic_Sal = float(input(\"Enter the Basic salary : \"))\n",
        "\n",
        "DA = (Basic_Sal * 40)/100\n",
        "HRA = (Basic_Sal * 20)/100\n",
        "Gross_sal = DA + HRA + Basic_Sal\n",
        "\n",
        "print(\"\\nDearness Allowance 40% of Basic salary :\", DA)\n",
        "print(\"House Rent 20% of Basic salary : \",HRA)\n",
        "print(\"Gross salary : \", Gross_sal)\n",
        "\n"
      ],
      "execution_count": 34,
      "outputs": [
        {
          "output_type": "stream",
          "name": "stdout",
          "text": [
            "Enter the Basic salary : 10\n",
            "\n",
            "Dearness Allowance 40% of Basic salary : 4.0\n",
            "House Rent 20% of Basic salary :  2.0\n",
            "Gross salary :  16.0\n"
          ]
        }
      ]
    }
  ]
}