{
  "nbformat": 4,
  "nbformat_minor": 0,
  "metadata": {
    "colab": {
      "name": "Create Calculater Using Python.ipynb",
      "provenance": [],
      "authorship_tag": "ABX9TyOg6dL4EWqlP2nRbNJgMDRV",
      "include_colab_link": true
    },
    "kernelspec": {
      "name": "python3",
      "display_name": "Python 3"
    },
    "language_info": {
      "name": "python"
    }
  },
  "cells": [
    {
      "cell_type": "markdown",
      "metadata": {
        "id": "view-in-github",
        "colab_type": "text"
      },
      "source": [
        "<a href=\"https://colab.research.google.com/github/pruthvirajkamble/oop-assinments/blob/main/Create_Calculater_Using_Python.ipynb\" target=\"_parent\"><img src=\"https://colab.research.google.com/assets/colab-badge.svg\" alt=\"Open In Colab\"/></a>"
      ]
    },
    {
      "cell_type": "code",
      "execution_count": 1,
      "metadata": {
        "colab": {
          "base_uri": "https://localhost:8080/"
        },
        "id": "-mRYp4b99IfV",
        "outputId": "f142e126-b9cc-4c22-d975-0f2f921c11f1"
      },
      "outputs": [
        {
          "output_type": "stream",
          "name": "stdout",
          "text": [
            "Enter year : 2022\n",
            "Enter month : 2\n",
            "\n",
            "    February 2022\n",
            "Mo Tu We Th Fr Sa Su\n",
            "    1  2  3  4  5  6\n",
            " 7  8  9 10 11 12 13\n",
            "14 15 16 17 18 19 20\n",
            "21 22 23 24 25 26 27\n",
            "28\n",
            "\n"
          ]
        }
      ],
      "source": [
        "import calendar\n",
        "year =int(input(\"Enter year : \"))\n",
        "month = int(input(\"Enter month : \"))\n",
        "print(\"\\n\", calendar.month(year,month))"
      ]
    }
  ]
}