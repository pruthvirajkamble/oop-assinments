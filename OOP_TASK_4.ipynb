{
  "nbformat": 4,
  "nbformat_minor": 0,
  "metadata": {
    "colab": {
      "name": "OOP TASK 4.ipynb",
      "provenance": [],
      "authorship_tag": "ABX9TyP1Y/Y+kEoSvwooGtwARP9D",
      "include_colab_link": true
    },
    "kernelspec": {
      "name": "python3",
      "display_name": "Python 3"
    },
    "language_info": {
      "name": "python"
    }
  },
  "cells": [
    {
      "cell_type": "markdown",
      "metadata": {
        "id": "view-in-github",
        "colab_type": "text"
      },
      "source": [
        "<a href=\"https://colab.research.google.com/github/pruthvirajkamble/oop-assinments/blob/main/OOP_TASK_4.ipynb\" target=\"_parent\"><img src=\"https://colab.research.google.com/assets/colab-badge.svg\" alt=\"Open In Colab\"/></a>"
      ]
    },
    {
      "cell_type": "code",
      "metadata": {
        "colab": {
          "base_uri": "https://localhost:8080/"
        },
        "id": "RVh5M6_6YEZ-",
        "outputId": "5fb420f0-d02d-4f2c-97fa-e9a45b57c5ce"
      },
      "source": [
        "class node():\n",
        "  def __init__(self,data):\n",
        "    self.data = data\n",
        "    self.next = None\n",
        "  \n",
        "  def __del__(self):\n",
        "    print(\"Node deleted\")\n",
        "\n",
        "class Stack():\n",
        "  def __init__(self):\n",
        "    self.top = node(None)\n",
        "    self.size = 0\n",
        "\n",
        "  def isEmpty(self):\n",
        "    if self.size==0:\n",
        "      return True\n",
        "\n",
        "  def push(self,data):\n",
        "    temp = node(data)\n",
        "    temp.next = self.top.next\n",
        "    self.top.next = temp\n",
        "    self.size = self.size + 1\n",
        "\n",
        "  def pop(self):\n",
        "    if self.isEmpty():\n",
        "      print(\"Stack underflow\")\n",
        "    temp = self.top.next\n",
        "    self.top.next = self.top.next.next\n",
        "    self.size = self.size - 1\n",
        "    return temp.data\n",
        "\n",
        "  def display(self):\n",
        "    if self.isEmpty():\n",
        "      print(\"stack is empty\")\n",
        "    temp = self.top\n",
        "    while(temp!=None):\n",
        "      print(temp.data)\n",
        "      temp = temp.next\n",
        "\n",
        "\n",
        "stack = Stack()\n",
        "for k in range(1,6):\n",
        "  stack.push(k*k)\n",
        "stack.pop()\n",
        "stack.display()"
      ],
      "execution_count": 1,
      "outputs": [
        {
          "output_type": "stream",
          "name": "stdout",
          "text": [
            "Node deleted\n",
            "None\n",
            "16\n",
            "9\n",
            "4\n",
            "1\n"
          ]
        }
      ]
    },
    {
      "cell_type": "code",
      "metadata": {
        "colab": {
          "base_uri": "https://localhost:8080/"
        },
        "id": "1RrepzSCaFE1",
        "outputId": "dfbb7276-e622-45e4-d66c-2420c2183c33"
      },
      "source": [
        "class rectangle():\n",
        "  def __init__(self,l,b):\n",
        "    self.l = l\n",
        "    self.b = b\n",
        "  def area(self):\n",
        "    print(self.l * self.b)\n",
        "\n",
        "obj = rectangle(4,3)\n",
        "obj.area()"
      ],
      "execution_count": 7,
      "outputs": [
        {
          "output_type": "stream",
          "name": "stdout",
          "text": [
            "12\n"
          ]
        }
      ]
    },
    {
      "cell_type": "code",
      "metadata": {
        "colab": {
          "base_uri": "https://localhost:8080/"
        },
        "id": "TQ-6wmRGaN36",
        "outputId": "794449fa-25eb-43d4-b436-197e3a02c6fd"
      },
      "source": [
        "class rectangle():\n",
        "  def __init__(self):\n",
        "    self.l = 4\n",
        "    self.b = 3\n",
        "  def area(self):\n",
        "    print(self.l * self.b)\n",
        "\n",
        "obj = rectangle()\n",
        "obj.area()"
      ],
      "execution_count": 8,
      "outputs": [
        {
          "output_type": "stream",
          "name": "stdout",
          "text": [
            "12\n"
          ]
        }
      ]
    },
    {
      "cell_type": "code",
      "metadata": {
        "colab": {
          "base_uri": "https://localhost:8080/"
        },
        "id": "0JuTtjOfaaGT",
        "outputId": "d3fb23d8-0117-4c14-92be-f5599da376ed"
      },
      "source": [
        "class node():\n",
        "  def __init__(self,data):\n",
        "    self.data = data\n",
        "    self.next = None\n",
        "  def __del__(self):\n",
        "    print(\"Node deleted\")\n",
        "\n",
        "class Queue():\n",
        "  def __init__(self):\n",
        "    self.front = None\n",
        "    self.rear = None\n",
        "\n",
        "  def enqueue(self,data):\n",
        "    temp = node(data)\n",
        "    if self.front == None:\n",
        "      self.front = temp\n",
        "      self.rear = temp\n",
        "    else:\n",
        "      self.rear.next = temp\n",
        "      self.rear = temp\n",
        "\n",
        "  def dequeue(self):\n",
        "    if self.front == None:\n",
        "      print(\"Underflow condition\")\n",
        "    else:\n",
        "      temp = self.front\n",
        "      self.front = self.front.next\n",
        "      if self.front==None:\n",
        "        self.rear = None\n",
        "      del temp\n",
        "\n",
        "  def display(self):\n",
        "    temp = self.front\n",
        "    while(temp!=None):\n",
        "      print(temp.data,\"->\",end=\"\")\n",
        "      temp = temp.next\n",
        "    print(\"\\n\")\n",
        "    \n",
        "q = Queue()\n",
        "q.enqueue(10)\n",
        "q.enqueue(20)\n",
        "q.enqueue(30)\n",
        "q.enqueue(40)\n",
        "q.display()\n",
        "q.dequeue()\n",
        "q.display()"
      ],
      "execution_count": 9,
      "outputs": [
        {
          "output_type": "stream",
          "name": "stdout",
          "text": [
            "10 ->20 ->30 ->40 ->\n",
            "\n",
            "Node deleted\n",
            "20 ->30 ->40 ->\n",
            "\n"
          ]
        }
      ]
    }
  ]
}