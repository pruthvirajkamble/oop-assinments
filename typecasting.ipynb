{
  "nbformat": 4,
  "nbformat_minor": 0,
  "metadata": {
    "colab": {
      "name": "Untitled0.ipynb",
      "provenance": [],
      "collapsed_sections": [],
      "authorship_tag": "ABX9TyOuI8isxJtfqt/JtGFyht0M",
      "include_colab_link": true
    },
    "kernelspec": {
      "name": "python3",
      "display_name": "Python 3"
    },
    "language_info": {
      "name": "python"
    }
  },
  "cells": [
    {
      "cell_type": "markdown",
      "metadata": {
        "id": "view-in-github",
        "colab_type": "text"
      },
      "source": [
        "<a href=\"https://colab.research.google.com/github/pruthvirajkamble/oop-assinments/blob/main/typecasting.ipynb\" target=\"_parent\"><img src=\"https://colab.research.google.com/assets/colab-badge.svg\" alt=\"Open In Colab\"/></a>"
      ]
    },
    {
      "cell_type": "code",
      "metadata": {
        "id": "OzjuFvkxcefF"
      },
      "source": [
        ""
      ],
      "execution_count": null,
      "outputs": []
    },
    {
      "cell_type": "code",
      "metadata": {
        "colab": {
          "base_uri": "https://localhost:8080/"
        },
        "id": "INBx-aiKbA8B",
        "outputId": "579fed35-991c-4de7-fdc5-b28c5ab335fa"
      },
      "source": [
        "var1 = \"hello freind \"\n",
        "var2 = \"my name is pruthviraj\"\n",
        "var3 = 4\n",
        "var4 = 32.4\n",
        "print(var3+var4)\n",
        "print(var1 + var2)\n",
        "\n",
        "# type of variable\n",
        "\n",
        "print(type(var1))\n",
        "print(type(var2))\n",
        "print(type(var3))\n",
        "print(type(var4))\n",
        "a = (1,2,3)\n",
        "print(type(a))\n",
        "b = ['s','3','true']\n",
        "print(type(b))\n",
        "c = {1,2,3}\n",
        "print(type(c))\n",
        "# variable casting\n",
        "print(int(var4))\n",
        "print(float(var3))\n",
        "\n"
      ],
      "execution_count": 7,
      "outputs": [
        {
          "output_type": "stream",
          "name": "stdout",
          "text": [
            "36.4\n",
            "hello freind my name is pruthviraj\n",
            "<class 'str'>\n",
            "<class 'str'>\n",
            "<class 'int'>\n",
            "<class 'float'>\n",
            "<class 'tuple'>\n",
            "<class 'list'>\n",
            "<class 'set'>\n",
            "32\n",
            "4.0\n"
          ]
        }
      ]
    }
  ]
}